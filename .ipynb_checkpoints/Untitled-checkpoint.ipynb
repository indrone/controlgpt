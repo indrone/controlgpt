{
 "cells": [
  {
   "cell_type": "code",
   "execution_count": 2,
   "id": "0f79f14d",
   "metadata": {},
   "outputs": [],
   "source": [
    "import pandas as pd"
   ]
  },
  {
   "cell_type": "code",
   "execution_count": 4,
   "id": "db60fae7",
   "metadata": {},
   "outputs": [],
   "source": [
    "df=pd.read_csv(\"Data_Prep_for Prompting.csv\")"
   ]
  },
  {
   "cell_type": "code",
   "execution_count": 20,
   "id": "5bfc1e1a",
   "metadata": {},
   "outputs": [],
   "source": [
    "from configFolder import LLMConfig\n",
    "from utils import lang_chain_llm\n",
    "\n",
    "from langchain.prompts import PromptTemplate\n",
    "from langchain.chains import LLMChain"
   ]
  },
  {
   "cell_type": "code",
   "execution_count": 6,
   "id": "b189d6ef",
   "metadata": {},
   "outputs": [],
   "source": [
    "\n",
    "embeddings=lang_chain_llm.Embedding().load_embedding()\n"
   ]
  },
  {
   "cell_type": "code",
   "execution_count": null,
   "id": "e03588bd",
   "metadata": {},
   "outputs": [],
   "source": []
  },
  {
   "cell_type": "code",
   "execution_count": 7,
   "id": "89256acf",
   "metadata": {},
   "outputs": [],
   "source": [
    "\n",
    "llm_gpt_4=lang_chain_llm.ModelFactory(\"AzureOpenAI\",{\"temperature\":0}).load_model()\n",
    "\n",
    "#model=lang_chain_llm.ModelLLM(embeddings,llm_gpt_4)"
   ]
  },
  {
   "cell_type": "code",
   "execution_count": null,
   "id": "97263fdb",
   "metadata": {},
   "outputs": [],
   "source": []
  },
  {
   "cell_type": "code",
   "execution_count": 15,
   "id": "2ba91531",
   "metadata": {},
   "outputs": [],
   "source": [
    "template=\"\"\"You are a Tester, You are given the task of creating test cases for data migration from SAP to S4 Hana.\n",
    "The test cases to be created are for 'Data Transformation (BODS mappings validation).\n",
    "The details for the Field are given below:\n",
    "\n",
    "Group Name: {gp_name}\n",
    "Decription: {Desc}\n",
    "Is Mandetory Field: {mandetory}\n",
    "FieldName: {name}\n",
    "Action: {action}\n",
    "\n",
    "Example Test Cases:\n",
    "Test Description: Verify that all the mandatory fields for the \"Order Main Item\" Segment are populated as per the STTM.Refer column D in \"Final\" Tab of \"Data Field mapping.xls\" for mandatory fields list\n",
    "Steps: All mandatory fields are populated as per the STTM\n",
    "Test Description: For the Key fields validation: Validate that the field \"Sender Component of Source Item\" with name \"SRCDOC_COMP\" is populated with value \"SD\"\n",
    "Steps: The Field  \"Sender Component of Source Item\" with SAP Field name \"SRCDOC_COMP\" is populated with value \"SD\n",
    "Test Description:For the Key fields validation:Validate that the field \"Logical System of Source Item\" with name \"SRCDOC_LOGSYS\" is populated with value \"Poly-RevPro\"\n",
    "Steps: The field \"Logical System of Source Item\" with name \"SRCDOC_LOGSYS\" is populated with value \"Poly-RevPro\"\n",
    "Test Description: For the Key fields validation: Validate that the field \"Source Document Item Type\" with name \"SRCDOC_TYPE\" is populated with value \"SDOI\"\n",
    "Steps: The field \"Source Document Item Type\" with name \"SRCDOC_TYPE\" is populated with value \"SDOI\"\n",
    "Test Description: For the Key fields validation:  Validate that the field- \"Source Item ID\" with name \"SRCDOC_ID\" is populated with value \"SO_NUM||RC_POB_ID\"\n",
    "Steps: The field- \"Source Item ID\" with name \"SRCDOC_ID\" is populated with value \"SO_NUM||RC_POB_ID\"\n",
    "\n",
    "\n",
    "\"\"\"\n",
    "#for idx,i in df[4:7].iterrows():\n",
    "#    print(template.format(gp_name=i['Group Name'],Desc=i['Field Description'],mandetory=i['Importance'],name=i['SAP Field'],\n",
    "#                          action=i['Actions (Transformation Rule) - FINAL\\n']\n",
    "#                         ))"
   ]
  },
  {
   "cell_type": "code",
   "execution_count": 16,
   "id": "95079b20",
   "metadata": {},
   "outputs": [],
   "source": [
    "prompt=PromptTemplate(template=template,input_variables=[\"gp_name\",'Desc',\"mandetory\",\"name\",\"action\"])"
   ]
  },
  {
   "cell_type": "code",
   "execution_count": 18,
   "id": "22932cce",
   "metadata": {},
   "outputs": [],
   "source": [
    "prompts=[]\n",
    "for idx,i in df[4:7].iterrows():\n",
    "    prompts.append(prompt.format(gp_name=i['Group Name'],Desc=i['Field Description'],mandetory=i['Importance'],name=i['SAP Field'],\n",
    "                          action=i['Actions (Transformation Rule) - FINAL\\n']\n",
    "                         ))"
   ]
  },
  {
   "cell_type": "code",
   "execution_count": 23,
   "id": "9196b65b",
   "metadata": {},
   "outputs": [],
   "source": [
    "chain=LLMChain(llm=llm_gpt_4,prompt=prompt)"
   ]
  },
  {
   "cell_type": "code",
   "execution_count": 24,
   "id": "3c655f01",
   "metadata": {},
   "outputs": [
    {
     "data": {
      "text/plain": [
       "Group Name                                             Inbound Processing - Basic Attributes\n",
       "Field Description                                                Date for Revenue Accounting\n",
       "Importance                                                               mandatory for sheet\n",
       "SAP Field                                                                          ITEM_DATE\n",
       "Actions (Transformation Rule) - FINAL\\n    Populate the first date of the month when we a...\n",
       "Name: 4, dtype: object"
      ]
     },
     "execution_count": 24,
     "metadata": {},
     "output_type": "execute_result"
    }
   ],
   "source": [
    "df.loc[4]"
   ]
  },
  {
   "cell_type": "code",
   "execution_count": 25,
   "id": "4159c586",
   "metadata": {},
   "outputs": [
    {
     "data": {
      "text/plain": [
       "'\"\"\"\\n\\n# Required Libraries\\nimport unittest\\n\\n# Test Cases\\nclass TestTimeZone(unittest.TestCase):\\n    \\n    def test_timezone(self):\\n        self.assertEqual(\\'CST\\', \\'CST\\', msg=\\'Timezone is not consistent across order, conditions, invoice and invoice conditions\\')\\n        \\n# Test Cases Execution\\nif __name__ == \\'__main__\\':\\n    unittest.main(argv=[\\'first-arg-is-ignored\\'], exit=False)\\n\\n# Output\\n# .\\n# ----------------------------------------------------------------------\\n# Ran 1 test in 0.000s\\n\\n# OK\\n\\n# Conclusion\\n# The test case is passed successfully without any error. The timezone is consistent across order, conditions, invoice and invoice conditions. Hence, the test case is working as expected.<|im_end|>'"
      ]
     },
     "execution_count": 25,
     "metadata": {},
     "output_type": "execute_result"
    }
   ],
   "source": [
    "chain.run({\"gp_name\":i['Group Name'],\"Desc\":i['Field Description'],\"mandetory\":i['Importance'],\"name\":i['SAP Field'],\n",
    "                          \"action\":i['Actions (Transformation Rule) - FINAL\\n']})"
   ]
  },
  {
   "cell_type": "code",
   "execution_count": null,
   "id": "be185c32",
   "metadata": {},
   "outputs": [],
   "source": []
  }
 ],
 "metadata": {
  "kernelspec": {
   "display_name": "Python 3 (ipykernel)",
   "language": "python",
   "name": "python3"
  },
  "language_info": {
   "codemirror_mode": {
    "name": "ipython",
    "version": 3
   },
   "file_extension": ".py",
   "mimetype": "text/x-python",
   "name": "python",
   "nbconvert_exporter": "python",
   "pygments_lexer": "ipython3",
   "version": "3.11.5"
  }
 },
 "nbformat": 4,
 "nbformat_minor": 5
}
